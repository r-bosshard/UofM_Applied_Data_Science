{
 "cells": [
  {
   "cell_type": "markdown",
   "metadata": {},
   "source": [
    "---\n",
    "\n",
    "_You are currently looking at **version 1.1** of this notebook. To download notebooks and datafiles, as well as get help on Jupyter notebooks in the Coursera platform, visit the [Jupyter Notebook FAQ](https://www.coursera.org/learn/python-text-mining/resources/d9pwm) course resource._\n",
    "\n",
    "---"
   ]
  },
  {
   "cell_type": "markdown",
   "metadata": {},
   "source": [
    "# Assignment 1\n",
    "\n",
    "In this assignment, you'll be working with messy medical data and using regex to extract relevant infromation from the data. \n",
    "\n",
    "Each line of the `dates.txt` file corresponds to a medical note. Each note has a date that needs to be extracted, but each date is encoded in one of many formats.\n",
    "\n",
    "The goal of this assignment is to correctly identify all of the different date variants encoded in this dataset and to properly normalize and sort the dates. \n",
    "\n",
    "Here is a list of some of the variants you might encounter in this dataset:\n",
    "* 04/20/2009; 04/20/09; 4/20/09; 4/3/09\n",
    "* Mar-20-2009; Mar 20, 2009; March 20, 2009;  Mar. 20, 2009; Mar 20 2009;\n",
    "* 20 Mar 2009; 20 March 2009; 20 Mar. 2009; 20 March, 2009\n",
    "* Mar 20th, 2009; Mar 21st, 2009; Mar 22nd, 2009\n",
    "* Feb 2009; Sep 2009; Oct 2010\n",
    "* 6/2008; 12/2009\n",
    "* 2009; 2010\n",
    "\n",
    "Once you have extracted these date patterns from the text, the next step is to sort them in ascending chronological order accoring to the following rules:\n",
    "* Assume all dates in xx/xx/xx format are mm/dd/yy\n",
    "* Assume all dates where year is encoded in only two digits are years from the 1900's (e.g. 1/5/89 is January 5th, 1989)\n",
    "* If the day is missing (e.g. 9/2009), assume it is the first day of the month (e.g. September 1, 2009).\n",
    "* If the month is missing (e.g. 2010), assume it is the first of January of that year (e.g. January 1, 2010).\n",
    "* Watch out for potential typos as this is a raw, real-life derived dataset.\n",
    "\n",
    "With these rules in mind, find the correct date in each note and return a pandas Series in chronological order of the original Series' indices.\n",
    "\n",
    "For example if the original series was this:\n",
    "\n",
    "    0    1999\n",
    "    1    2010\n",
    "    2    1978\n",
    "    3    2015\n",
    "    4    1985\n",
    "\n",
    "Your function should return this:\n",
    "\n",
    "    0    2\n",
    "    1    4\n",
    "    2    0\n",
    "    3    1\n",
    "    4    3\n",
    "\n",
    "Your score will be calculated using [Kendall's tau](https://en.wikipedia.org/wiki/Kendall_rank_correlation_coefficient), a correlation measure for ordinal data.\n",
    "\n",
    "*This function should return a Series of length 500 and dtype int.*"
   ]
  },
  {
   "cell_type": "code",
   "execution_count": 1,
   "metadata": {},
   "outputs": [
    {
     "data": {
      "text/plain": [
       "0         03/25/93 Total time of visit (in minutes):\\n\n",
       "1                       6/18/85 Primary Care Doctor:\\n\n",
       "2    sshe plans to move as of 7/8/71 In-Home Servic...\n",
       "3                7 on 9/27/75 Audit C Score Current:\\n\n",
       "4    2/6/96 sleep studyPain Treatment Pain Level (N...\n",
       "5                    .Per 7/06/79 Movement D/O note:\\n\n",
       "6    4, 5/18/78 Patient's thoughts about current su...\n",
       "7    10/24/89 CPT Code: 90801 - Psychiatric Diagnos...\n",
       "8                         3/7/86 SOS-10 Total Score:\\n\n",
       "9             (4/10/71)Score-1Audit C Score Current:\\n\n",
       "dtype: object"
      ]
     },
     "execution_count": 1,
     "metadata": {},
     "output_type": "execute_result"
    }
   ],
   "source": [
    "import pandas as pd\n",
    "\n",
    "doc = []\n",
    "with open('dates.txt') as file:\n",
    "    for line in file:\n",
    "        doc.append(line)\n",
    "\n",
    "df = pd.Series(doc)\n",
    "df.head(10)"
   ]
  },
  {
   "cell_type": "code",
   "execution_count": 7,
   "metadata": {
    "scrolled": true
   },
   "outputs": [
    {
     "name": "stdout",
     "output_type": "stream",
     "text": [
      "2027-07-09 00:00:00\n",
      "1996-02-06 00:00:00\n",
      "2018-04-05 00:00:00\n",
      "1989-10-24 00:00:00\n",
      "1985-05-11 00:00:00\n",
      "1990-05-24 00:00:00\n",
      "2011-01-25 00:00:00\n",
      "2013-01-10 00:00:00\n",
      "2024-04-04 00:00:00\n",
      "2059-05-21 00:00:00\n",
      "1990-03-03 00:00:00\n",
      "1976-02-11 00:00:00\n",
      "1984-07-25 00:00:00\n",
      "1989-09-22 00:00:00\n",
      "1976-09-02 00:00:00\n",
      "1972-07-20 00:00:00\n",
      "1987-04-12 00:00:00\n",
      "1973-02-14 00:00:00\n",
      "1988-05-24 00:00:00\n",
      "1975-07-29 00:00:00\n",
      "1987-06-24 00:00:00\n",
      "1982-08-16 00:00:00\n",
      "1991-07-15 00:00:00\n",
      "1992-06-13 00:00:00\n",
      "1986-12-26 00:00:00\n",
      "1987-10-11 00:00:00\n",
      "1973-12-01 00:00:00\n",
      "2000-01-01 00:00:00\n",
      "1983-08-06 00:00:00\n",
      "1994-07-29 00:00:00\n",
      "1978-08-11 00:00:00\n",
      "2003-11-24 00:00:00\n",
      "1982-07-04 00:00:00\n",
      "2000-01-01 00:00:00\n",
      "1981-09-19 00:00:00\n",
      "2006-10-15 00:00:00\n",
      "2004-02-08 00:00:00\n",
      "2000-09-14 00:00:00\n",
      "1993-06-05 00:00:00\n",
      "0100-02-02 00:00:00\n",
      "1989-08-26 00:00:00\n",
      "1995-10-13 00:00:00\n",
      "1976-09-20 00:00:00\n",
      "2019-11-14 00:00:00\n",
      "1997-10-05 00:00:00\n",
      "2002-07-18 00:00:00\n",
      "1978-02-03 00:00:00\n",
      "2006-02-11 00:00:00\n",
      "2019-09-21 00:00:00\n",
      "1992-12-15 00:00:00\n",
      "2020-04-06 00:00:00\n",
      "1992-07-17 00:00:00\n",
      "1998-12-22 00:00:00\n",
      "1990-11-05 00:00:00\n",
      "1977-05-04 00:00:00\n",
      "2007-11-30 00:00:00\n",
      "1985-02-11 00:00:00\n",
      "2049-02-05 19:00:00\n",
      "1992-10-14 00:00:00\n",
      "2001-05-30 00:00:00\n",
      "1978-02-02 20:00:00\n",
      "1996-11-11 00:00:00\n",
      "2044-01-24 20:11:00\n",
      "1993-08-23 15:00:00\n",
      "1988-12-04 20:00:00\n",
      "2022-01-18 19:00:00\n",
      "1974-06-13 15:00:00\n",
      "2004-03-12 00:00:00\n",
      "1993-05-06 00:00:00\n",
      "2022-01-18 19:00:00\n",
      "1990-04-11 00:00:00\n",
      "2019-02-18 00:00:00\n",
      "1976-03-10 00:00:00\n",
      "2019-07-24 00:00:00\n",
      "1997-07-11 00:00:00\n",
      "2011-11-22 00:00:00\n",
      "1981-08-14 00:00:00\n",
      "1989-05-14 00:00:00\n",
      "2019-05-20 00:00:00\n",
      "1998-07-25 00:00:00\n",
      "2050-05-03 00:00:00\n",
      "2015-09-03 00:50:00\n",
      "1995-05-03 00:00:00\n",
      "1976-02-03 00:01:00\n",
      "1995-01-03 00:00:00\n",
      "2019-05-03 00:00:00\n",
      "2001-05-08 20:04:00\n",
      "2010-11-03 12:00:00\n",
      "2019-09-27 00:00:00\n",
      "2050-10-03 00:00:00\n",
      "2001-03-02 00:00:00\n",
      "2001-07-12 00:00:00\n",
      "2014-10-03 00:02:00\n",
      "1988-09-03 00:00:00\n",
      "1976-04-03 00:02:00\n",
      "2025-01-10 12:00:01\n",
      "1980-10-03 00:02:00\n",
      "2009-12-03 01:00:00\n",
      "0708-08-03 00:00:00\n",
      "2019-09-02 00:00:00\n",
      "0100-02-20 00:00:00\n",
      "2013-09-03 00:50:00\n",
      "2050-05-20 00:00:00\n",
      "1977-09-03 00:00:00\n",
      "2005-01-02 00:00:00\n",
      "1994-01-03 00:00:00\n",
      "2019-12-03 00:00:00\n",
      "2025-07-20 00:00:00\n",
      "0504-04-10 19:00:00\n",
      "2019-02-20 00:00:00\n",
      "2019-09-03 10:30:00\n",
      "1976-06-03 00:00:00\n",
      "2063-05-18 00:00:00\n",
      "2050-11-16 20:12:00\n",
      "1991-10-03 00:00:00\n",
      "1980-10-19 00:00:00\n",
      "2001-05-03 00:07:00\n",
      "2040-09-03 00:20:00\n",
      "2019-06-03 00:00:00\n",
      "2000-01-01 00:00:00\n",
      "2007-12-03 01:00:00\n",
      "1998-04-03 00:00:00\n",
      "2050-10-03 00:00:00\n",
      "2052-06-20 00:00:00\n",
      "1980-03-03 00:06:00\n",
      "2003-09-03 01:00:00\n",
      "2001-09-03 01:00:00\n",
      "1973-09-03 00:00:00\n",
      "2008-03-04 00:00:00\n",
      "1999-02-03 00:00:00\n",
      "2059-06-20 00:00:00\n",
      "2045-12-19 00:00:00\n",
      "2000-01-01 00:00:00\n",
      "1979-05-03 00:00:00\n",
      "2014-12-03 00:00:00\n",
      "1994-10-03 00:00:00\n",
      "2010-08-03 00:00:00\n",
      "2000-03-03 00:00:00\n",
      "1984-09-03 00:00:00\n",
      "1986-12-03 00:00:00\n",
      "1984-11-03 00:00:00\n",
      "0445-04-20 00:00:00\n",
      "1976-09-03 00:00:00\n",
      "1983-04-03 00:40:00\n",
      "2004-02-02 00:00:00\n",
      "2009-02-02 00:00:00\n",
      "2003-06-16 00:00:00\n",
      "2000-02-03 00:00:00\n",
      "2019-09-16 00:00:00\n",
      "1988-09-03 00:00:00\n",
      "2019-09-25 00:00:00\n",
      "2019-09-19 00:00:00\n",
      "1997-09-03 00:00:00\n",
      "1975-09-03 00:00:00\n",
      "2019-09-14 00:00:00\n",
      "1993-09-03 00:00:00\n",
      "2019-09-06 00:00:00\n",
      "2035-01-03 00:00:00\n",
      "0969-12-03 00:00:00\n",
      "159\n"
     ]
    }
   ],
   "source": [
    "import dateutil.parser as dparser\n",
    "\n",
    "sorted_dates = []\n",
    "\n",
    "count = 0\n",
    "\n",
    "for i in range(len(df)):\n",
    "    \n",
    "    try:\n",
    "        ans = dparser.parse(df[i],fuzzy=True,)\n",
    "        sorted_dates.append(ans)\n",
    "    \n",
    "    except:\n",
    "        \n",
    "        ans = date_parse1(df[i])\n",
    "        sorted_dates.append(ans)\n",
    "        count += 1\n",
    "                \n",
    "print(count)"
   ]
  },
  {
   "cell_type": "code",
   "execution_count": 8,
   "metadata": {},
   "outputs": [
    {
     "ename": "TypeError",
     "evalue": "'<' not supported between instances of 'NoneType' and 'datetime.datetime'",
     "output_type": "error",
     "traceback": [
      "\u001b[0;31m---------------------------------------------------------------------------\u001b[0m",
      "\u001b[0;31mTypeError\u001b[0m                                 Traceback (most recent call last)",
      "\u001b[0;32m<ipython-input-8-07f2a76e3794>\u001b[0m in \u001b[0;36m<module>\u001b[0;34m()\u001b[0m\n\u001b[0;32m----> 1\u001b[0;31m \u001b[0mdf_sort\u001b[0m \u001b[0;34m=\u001b[0m \u001b[0msorted\u001b[0m\u001b[0;34m(\u001b[0m\u001b[0msorted_dates\u001b[0m\u001b[0;34m)\u001b[0m\u001b[0;34m\u001b[0m\u001b[0m\n\u001b[0m",
      "\u001b[0;31mTypeError\u001b[0m: '<' not supported between instances of 'NoneType' and 'datetime.datetime'"
     ]
    }
   ],
   "source": [
    "df_sort = sorted(sorted_dates)"
   ]
  },
  {
   "cell_type": "code",
   "execution_count": 9,
   "metadata": {},
   "outputs": [
    {
     "data": {
      "text/plain": [
       "'3/25/93 Total time of visit (in minutes):\\n'"
      ]
     },
     "execution_count": 9,
     "metadata": {},
     "output_type": "execute_result"
    }
   ],
   "source": [
    "df[0][1:]"
   ]
  },
  {
   "cell_type": "code",
   "execution_count": 5,
   "metadata": {
    "collapsed": true
   },
   "outputs": [],
   "source": [
    "def date_parse2(text):\n",
    "\n",
    "    try:\n",
    "\n",
    "        ans = dparser.parse(text, fuzzy=True)\n",
    "        print(ans)\n",
    "\n",
    "    except:\n",
    "        if len(text) == 1:\n",
    "            print(\"2000-01-01 00:00:00\")\n",
    "        else:\n",
    "            text = text[1:]\n",
    "            date_parse2(text)\n",
    "\n",
    "def date_parse1(text):\n",
    "\n",
    "    try:\n",
    "\n",
    "        ans = dparser.parse(text, fuzzy=True)\n",
    "        print(ans)\n",
    "\n",
    "    except:\n",
    "        \n",
    "        if len(text) == 1:\n",
    "            date_parse2(text)\n",
    "        else:\n",
    "            text = text[:-1]\n",
    "            date_parse1(text)"
   ]
  },
  {
   "cell_type": "code",
   "execution_count": 10,
   "metadata": {},
   "outputs": [
    {
     "data": {
      "text/plain": [
       "'2/6/96 sleep studyPain Treatment Pain Level (Numeric Scale): 7\\n'"
      ]
     },
     "execution_count": 10,
     "metadata": {},
     "output_type": "execute_result"
    }
   ],
   "source": [
    "df[4]"
   ]
  },
  {
   "cell_type": "code",
   "execution_count": 12,
   "metadata": {},
   "outputs": [
    {
     "name": "stdout",
     "output_type": "stream",
     "text": [
      "1996-02-06 00:00:00\n"
     ]
    }
   ],
   "source": [
    "a = date_parse1(df[4])\n",
    "a"
   ]
  },
  {
   "cell_type": "code",
   "execution_count": 13,
   "metadata": {},
   "outputs": [
    {
     "data": {
      "text/plain": [
       "1"
      ]
     },
     "execution_count": 13,
     "metadata": {},
     "output_type": "execute_result"
    }
   ],
   "source": [
    "b =\"a\"\n",
    "len(b)"
   ]
  },
  {
   "cell_type": "code",
   "execution_count": 15,
   "metadata": {
    "collapsed": true
   },
   "outputs": [],
   "source": [
    "import re"
   ]
  },
  {
   "cell_type": "code",
   "execution_count": 21,
   "metadata": {},
   "outputs": [
    {
     "data": {
      "text/plain": [
       "'03/25/93 Total time of visit (in minutes):\\n'"
      ]
     },
     "execution_count": 21,
     "metadata": {},
     "output_type": "execute_result"
    }
   ],
   "source": [
    "text8 = df.iloc[0]\n",
    "text8"
   ]
  },
  {
   "cell_type": "code",
   "execution_count": 24,
   "metadata": {},
   "outputs": [
    {
     "data": {
      "text/plain": [
       "['/', '2', '/']"
      ]
     },
     "execution_count": 24,
     "metadata": {},
     "output_type": "execute_result"
    }
   ],
   "source": [
    "[w for w in text8 if re.search('[{2}/{2}/{2}]', w)]"
   ]
  },
  {
   "cell_type": "code",
   "execution_count": null,
   "metadata": {
    "collapsed": true
   },
   "outputs": [],
   "source": [
    "# 04/20/2009; 04/20/09; 4/20/09; 4/3/09\n",
    "# Mar-20-2009; Mar 20, 2009; March 20, 2009; Mar. 20, 2009; Mar 20 2009;\n",
    "# 20 Mar 2009; 20 March 2009; 20 Mar. 2009; 20 March, 2009\n",
    "# Mar 20th, 2009; Mar 21st, 2009; Mar 22nd, 2009\n",
    "# Feb 2009; Sep 2009; Oct 2010\n",
    "# 6/2008; 12/2009\n",
    "# 2009; 2010"
   ]
  },
  {
   "cell_type": "code",
   "execution_count": null,
   "metadata": {},
   "outputs": [],
   "source": [
    "#import regex\n",
    "import re\n",
    "\n",
    "#import calendar\n",
    "import calendar\n",
    "\n",
    "short_month = {v: k for k,v in enumerate(calendar.month_abbr)}\n",
    "\n",
    "# Import the datetime module \n",
    "from datetime import datetime "
   ]
  },
  {
   "cell_type": "code",
   "execution_count": 293,
   "metadata": {},
   "outputs": [],
   "source": [
    "#putting it all together\n",
    "\n",
    "date_list = []\n",
    "\n",
    "#find all dates of type month/day/year\n",
    "\n",
    "\n",
    "for i in dates:\n",
    "    \n",
    "    try:\n",
    "        m = re.search('\\d+(/)\\d+(/)\\d+', i)\n",
    "        date = m.group(0)\n",
    "\n",
    "        date = date.split(\"/\")\n",
    "\n",
    "        month = int(date[0])\n",
    "\n",
    "        year = int(date[2][-2:])\n",
    "\n",
    "        day = int(date[1])\n",
    "\n",
    "        date = f'{month:02d}' + '/' + f'{day:02d}' + '/' + f'{year:02d}'\n",
    "        date = datetime.strptime(date, '%m/%d/%y')\n",
    "\n",
    "        date_list.append(date)\n",
    "\n",
    "    except:\n",
    "        continue\n",
    "#find all dates of type day, name of month, year\n",
    "\n",
    "\n",
    "\n",
    "    try: \n",
    "        m = re.search('\\d+ (.+) \\d+', i)\n",
    "        found1 = m.group(1)\n",
    "        month = found1.lower()\n",
    "        month = month.title()\n",
    "\n",
    "        month = int(short_month[month[:3]])\n",
    "\n",
    "        m = re.search('(\\d+) .+ \\d+', i, re.IGNORECASE)\n",
    "        found2 = m.group(1)\n",
    "\n",
    "        day = int(found2)\n",
    "\n",
    "        m = re.search('\\d+ .+ (\\d+)', i, re.IGNORECASE)\n",
    "        found3 = m.group(1)\n",
    "\n",
    "        year = int(found3[-2:])\n",
    "\n",
    "        date = f'{month:02d}' + '/' + f'{day:02d}' + '/' + f'{year:02d}'\n",
    "        date = datetime.strptime(date, '%m/%d/%y')\n",
    "\n",
    "        date_list.append(date)\n",
    "    \n",
    "    except:\n",
    "        continue\n",
    "    \n",
    "    \n",
    "#find all dates of type name month, day, year except month-day-year\n",
    "\n",
    "\n",
    "    try:\n",
    "\n",
    "        m = re.search('(.+) \\d+', i)\n",
    "        found1 = m.group(1)\n",
    "        month = found1.lower()\n",
    "        month = month.title()  \n",
    "        month = int(short_month[month[:3]])\n",
    "\n",
    "        m = re.search('(.+) \\d+', i)\n",
    "        found2 = m.group(1)\n",
    "        day = found2\n",
    "        m1 = re.search('.+ (\\d+)', day)\n",
    "        found3 = m1.group(1)\n",
    "        day = int(found3)\n",
    "\n",
    "        m = re.search('.+ (\\d+)', i)\n",
    "        found4 = m.group(1)\n",
    "        year = int(found4[-2:])\n",
    "\n",
    "        date = f'{month:02d}' + '/' + f'{day:02d}' + '/' + f'{year:02d}'\n",
    "        date = datetime.strptime(date, '%m/%d/%y')\n",
    "\n",
    "        date_list.append(date)\n",
    "    \n",
    "    except:\n",
    "        continue\n",
    "        \n",
    "        \n",
    "#find all dates of type month-day-year\n",
    "\n",
    "    try:\n",
    "\n",
    "        m = re.search('\\w+(-)\\d+(-)\\d+', i)\n",
    "        date = m.group(0)\n",
    "        date = date.split(\"-\")\n",
    "\n",
    "        month = date[0].lower()\n",
    "        month = month.title()  \n",
    "        month = int(short_month[month[:3]])\n",
    "\n",
    "        day = int(date[1])\n",
    "\n",
    "        year = int(date[2][-2:])\n",
    "\n",
    "        date = f'{month:02d}' + '/' + f'{day:02d}' + '/' + f'{year:02d}'\n",
    "        date = datetime.strptime(date, '%m/%d/%y')\n",
    "\n",
    "        date_list.append(date)\n",
    "    \n",
    "    except:\n",
    "        continue\n",
    "    \n",
    "#find all dates with only name month and year\n",
    "\n",
    "    try:\n",
    "\n",
    "        m = re.search('.+ (\\d+)', i)\n",
    "        found1 = m.group(1)\n",
    "        year = found1\n",
    "\n",
    "        m = re.search(f'(.+) {year}', i)\n",
    "        found2 = m.group(1)\n",
    "        month = found2\n",
    "        month = month.lower()\n",
    "        month = month.title()  \n",
    "        month = int(short_month[month[:3]])\n",
    "\n",
    "        day = 1\n",
    "\n",
    "        year = int(year[-2:])\n",
    "\n",
    "        date = f'{month:02d}' + '/' + f'{day:02d}' + '/' + f'{year:02d}'\n",
    "        date = datetime.strptime(date, '%m/%d/%y')\n",
    "\n",
    "        date_list.append(date)\n",
    "\n",
    "    except:\n",
    "        continue\n",
    "\n",
    "#find all dates with month/year\n",
    "\n",
    "\n",
    "    try:\n",
    "\n",
    "        m = re.search('\\d+(/)\\d+', i)\n",
    "        date = m.group(0)\n",
    "\n",
    "        date = date.split(\"/\")\n",
    "\n",
    "        month = int(date[0])\n",
    "\n",
    "        year = int(date[1][-2:])\n",
    "\n",
    "        day = 1\n",
    "\n",
    "        date = f'{month:02d}' + '/' + f'{day:02d}' + '/' + f'{year:02d}'\n",
    "        date = datetime.strptime(date, '%m/%d/%y')\n",
    "\n",
    "        date_list.append(date)\n",
    "\n",
    "    except:\n",
    "        continue\n",
    "        \n",
    "#find all dates with year\n",
    "\n",
    "    try:\n",
    "\n",
    "        word_list = i.split(\" \")\n",
    "\n",
    "        for a in word_list:\n",
    "\n",
    "            if a.isalpha():\n",
    "                continue\n",
    "\n",
    "            else:\n",
    "                year = a\n",
    "\n",
    "        year = int(year[-2:])\n",
    "\n",
    "        month = 1\n",
    "\n",
    "        day = 1\n",
    "\n",
    "        date = f'{month:02d}' + '/' + f'{day:02d}' + '/' + f'{year:02d}'\n",
    "        date = datetime.strptime(date, '%m/%d/%y')\n",
    "\n",
    "        date_list.append(date)\n",
    "    \n",
    "    except:\n",
    "        continue"
   ]
  },
  {
   "cell_type": "code",
   "execution_count": 294,
   "metadata": {},
   "outputs": [
    {
     "data": {
      "text/plain": [
       "[datetime.datetime(2009, 4, 20, 0, 0),\n",
       " datetime.datetime(2009, 4, 20, 0, 0),\n",
       " datetime.datetime(2009, 4, 20, 0, 0),\n",
       " datetime.datetime(2009, 4, 3, 0, 0)]"
      ]
     },
     "execution_count": 294,
     "metadata": {},
     "output_type": "execute_result"
    }
   ],
   "source": [
    "date_list"
   ]
  },
  {
   "cell_type": "code",
   "execution_count": 291,
   "metadata": {},
   "outputs": [],
   "source": [
    "#testing       \n",
    "dates1 =  [\"23 Jun 2018\", \"2 Dec 2017\", \"11 Jun 2018\", \n",
    "        \"01 January 2019\", \"10 mar. 15\", \"01 Jan 2007\"] \n",
    "\n",
    "dates2 = [\"asdfa 04/20/2009 asdf\", \"04/20/09\", \"4/20/09\", \"4/3/09\"]\n",
    "\n",
    "dates3= ['Mar 20, 2009', 'March 20, 2009', 'Mar. 20, 2009', 'Mar 20 2009']\n",
    "\n",
    "dates4 =  [\"asdf Mar-20-2009 asdf\", \" sadf Feb-01-2015 asdf\"]\n",
    "\n",
    "dates5 = [\"Mar 20th, 2009\", \"Mar 21st, 2009\", \"Mar 22nd, 2009\"]\n",
    "\n",
    "dates6 = [\"Feb 2009\", \"Sep 2009\", \"Oct 2010\"]\n",
    "\n",
    "dates7 = [\"6/2008\", \"12/2009\"]\n",
    "\n",
    "dates8 = [\"asdf 2008 asdfasd\", \" as 2017 asad\"]\n",
    "\n",
    "dates = dates1+dates2+dates3+dates4+dates5+dates6+dates7+dates8"
   ]
  },
  {
   "cell_type": "code",
   "execution_count": 288,
   "metadata": {
    "scrolled": true
   },
   "outputs": [
    {
     "name": "stdout",
     "output_type": "stream",
     "text": [
      "0\n",
      "1\n",
      "dog\n",
      "2\n",
      "3\n",
      "4\n",
      "cat\n",
      "5\n",
      "6\n",
      "7\n",
      "8\n",
      "9\n"
     ]
    }
   ],
   "source": [
    "for i in range(0,10):\n",
    "    \n",
    "    print(i)\n",
    "    try:\n",
    "        if i == 1:\n",
    "            print(\"dog\")\n",
    "    except:\n",
    "        continue\n",
    "    try:\n",
    "        if i == 4:\n",
    "            print(\"cat\")\n",
    "    except:\n",
    "        continue\n",
    "        "
   ]
  },
  {
   "cell_type": "code",
   "execution_count": null,
   "metadata": {},
   "outputs": [],
   "source": []
  },
  {
   "cell_type": "code",
   "execution_count": 255,
   "metadata": {},
   "outputs": [
    {
     "data": {
      "text/plain": [
       "'Mar-20-2009'"
      ]
     },
     "execution_count": 255,
     "metadata": {},
     "output_type": "execute_result"
    }
   ],
   "source": [
    "i = dates[0]\n",
    "\n",
    "m = re.search('\\w+(-)\\d+(-)\\d+', i)\n",
    "date = m.group(0)\n",
    "date"
   ]
  },
  {
   "cell_type": "code",
   "execution_count": 261,
   "metadata": {},
   "outputs": [
    {
     "data": {
      "text/plain": [
       "'12/2009'"
      ]
     },
     "execution_count": 261,
     "metadata": {},
     "output_type": "execute_result"
    }
   ],
   "source": [
    "a = dates[1]\n",
    "a"
   ]
  },
  {
   "cell_type": "code",
   "execution_count": 266,
   "metadata": {},
   "outputs": [
    {
     "data": {
      "text/plain": [
       "'12/2009'"
      ]
     },
     "execution_count": 266,
     "metadata": {},
     "output_type": "execute_result"
    }
   ],
   "source": [
    "m = re.search('\\d+(/)\\d+', a)\n",
    "found1 = m.group(0)\n",
    "found1"
   ]
  },
  {
   "cell_type": "code",
   "execution_count": 202,
   "metadata": {},
   "outputs": [
    {
     "data": {
      "text/plain": [
       "[datetime.datetime(2008, 1, 1, 0, 0), datetime.datetime(2017, 1, 1, 0, 0)]"
      ]
     },
     "execution_count": 202,
     "metadata": {},
     "output_type": "execute_result"
    }
   ],
   "source": [
    "#find all dates with year\n",
    "\n",
    "date_list = []\n",
    "\n",
    "for i in dates:\n",
    "    \n",
    "    word_list = i.split(\" \")\n",
    "    \n",
    "    for a in word_list:\n",
    "        \n",
    "        if a.isalpha():\n",
    "            continue\n",
    "        \n",
    "        else:\n",
    "            year = a\n",
    "    \n",
    "    year = int(year[-2:])\n",
    "    \n",
    "    month = 1\n",
    "    \n",
    "    day = 1\n",
    "        \n",
    "    date = f'{month:02d}' + '/' + f'{day:02d}' + '/' + f'{year:02d}'\n",
    "    date = datetime.strptime(date, '%m/%d/%y')\n",
    "\n",
    "    date_list.append(date)\n",
    "        \n",
    "date_list          \n",
    "    \n"
   ]
  },
  {
   "cell_type": "code",
   "execution_count": 268,
   "metadata": {},
   "outputs": [
    {
     "data": {
      "text/plain": [
       "[datetime.datetime(2008, 6, 1, 0, 0), datetime.datetime(2009, 12, 1, 0, 0)]"
      ]
     },
     "execution_count": 268,
     "metadata": {},
     "output_type": "execute_result"
    }
   ],
   "source": [
    "#find all dates with month/year\n",
    "\n",
    "date_list = []\n",
    "\n",
    "for i in dates:\n",
    "    \n",
    "    m = re.search('\\d+(/)\\d+', i)\n",
    "    date = m.group(0)\n",
    "    \n",
    "    date = date.split(\"/\")\n",
    "    \n",
    "    month = int(date[0])\n",
    "    \n",
    "    year = int(date[1][-2:])\n",
    "    \n",
    "    day = 1\n",
    "    \n",
    "    date = f'{month:02d}' + '/' + f'{day:02d}' + '/' + f'{year:02d}'\n",
    "    date = datetime.strptime(date, '%m/%d/%y')\n",
    "\n",
    "    date_list.append(date)\n",
    "        \n",
    "date_list       "
   ]
  },
  {
   "cell_type": "code",
   "execution_count": 193,
   "metadata": {},
   "outputs": [
    {
     "data": {
      "text/plain": [
       "[datetime.datetime(2009, 2, 1, 0, 0),\n",
       " datetime.datetime(2009, 9, 1, 0, 0),\n",
       " datetime.datetime(2010, 10, 1, 0, 0)]"
      ]
     },
     "execution_count": 193,
     "metadata": {},
     "output_type": "execute_result"
    }
   ],
   "source": [
    "#find all dates with only name month and year\n",
    "\n",
    "date_list = []\n",
    "\n",
    "for i in dates:\n",
    "    \n",
    "    m = re.search('.+ (\\d+)', i)\n",
    "    found1 = m.group(1)\n",
    "    year = found1\n",
    "    \n",
    "    m = re.search(f'(.+) {year}', i)\n",
    "    found2 = m.group(1)\n",
    "    month = found2\n",
    "    month = month.lower()\n",
    "    month = month.title()  \n",
    "    month = int(short_month[month[:3]])\n",
    "    \n",
    "    day = 1\n",
    "    \n",
    "    year = int(year[-2:])\n",
    "    \n",
    "    date = f'{month:02d}' + '/' + f'{day:02d}' + '/' + f'{year:02d}'\n",
    "    date = datetime.strptime(date, '%m/%d/%y')\n",
    "\n",
    "    date_list.append(date)\n",
    "        \n",
    "date_list       "
   ]
  },
  {
   "cell_type": "code",
   "execution_count": 176,
   "metadata": {},
   "outputs": [
    {
     "data": {
      "text/plain": [
       "[datetime.datetime(2009, 3, 20, 0, 0), datetime.datetime(2015, 2, 1, 0, 0)]"
      ]
     },
     "execution_count": 176,
     "metadata": {},
     "output_type": "execute_result"
    }
   ],
   "source": [
    "#find all dates of type month-day-year\n",
    "\n",
    "date_list = []\n",
    "\n",
    "for i in dates:\n",
    "    \n",
    "    date = i.split(\"-\")\n",
    "    \n",
    "    month = date[0].lower()\n",
    "    month = month.title()  \n",
    "    month = int(short_month[month[:3]])\n",
    "    \n",
    "    day = int(date[1])\n",
    "    \n",
    "    year = int(date[2][-2:])\n",
    "    \n",
    "    date = f'{month:02d}' + '/' + f'{day:02d}' + '/' + f'{year:02d}'\n",
    "    date = datetime.strptime(date, '%m/%d/%y')\n",
    "\n",
    "    date_list.append(date)\n",
    "\n",
    "        \n",
    "date_list       "
   ]
  },
  {
   "cell_type": "code",
   "execution_count": 179,
   "metadata": {},
   "outputs": [
    {
     "data": {
      "text/plain": [
       "[datetime.datetime(2009, 3, 20, 0, 0),\n",
       " datetime.datetime(2009, 3, 21, 0, 0),\n",
       " datetime.datetime(2009, 3, 22, 0, 0)]"
      ]
     },
     "execution_count": 179,
     "metadata": {},
     "output_type": "execute_result"
    }
   ],
   "source": [
    "#find all dates of type name month, day, year except month-day-year\n",
    "\n",
    "date_list = []\n",
    "\n",
    "for i in dates:\n",
    "\n",
    "    m = re.search('(.+) \\d+', i)\n",
    "    found1 = m.group(1)\n",
    "    month = found1.lower()\n",
    "    month = month.title()  \n",
    "    month = int(short_month[month[:3]])\n",
    "\n",
    "    m = re.search('(.+) \\d+', i)\n",
    "    found2 = m.group(1)\n",
    "    day = found2\n",
    "    m1 = re.search('.+ (\\d+)', day)\n",
    "    found3 = m1.group(1)\n",
    "    day = int(found3)\n",
    "\n",
    "    m = re.search('.+ (\\d+)', i)\n",
    "    found4 = m.group(1)\n",
    "    year = int(found4[-2:])\n",
    "\n",
    "    date = f'{month:02d}' + '/' + f'{day:02d}' + '/' + f'{year:02d}'\n",
    "    date = datetime.strptime(date, '%m/%d/%y')\n",
    "\n",
    "    date_list.append(date)\n",
    "\n",
    "        \n",
    "date_list    "
   ]
  },
  {
   "cell_type": "code",
   "execution_count": 94,
   "metadata": {},
   "outputs": [
    {
     "data": {
      "text/plain": [
       "['01/01/07', '03/10/15', '12/02/17', '06/11/18', '06/23/18', '01/01/19']"
      ]
     },
     "execution_count": 94,
     "metadata": {},
     "output_type": "execute_result"
    }
   ],
   "source": [
    "#find all dates of type day, name of month, year\n",
    "\n",
    "date_list = []\n",
    "\n",
    "for i in dates:\n",
    "\n",
    "    m = re.search('\\d+ (.+) \\d+', i)\n",
    "    found1 = m.group(1)\n",
    "    month = found1.lower()\n",
    "    month = month.title()\n",
    "    \n",
    "    month = int(short_month[month[:3]])\n",
    "\n",
    "    m = re.search('(\\d+) .+ \\d+', i, re.IGNORECASE)\n",
    "    found2 = m.group(1)\n",
    "\n",
    "    day = int(found2)\n",
    "\n",
    "    m = re.search('\\d+ .+ (\\d+)', i, re.IGNORECASE)\n",
    "    found3 = m.group(1)\n",
    "\n",
    "    year = int(found3[-2:])\n",
    "        \n",
    "    date = f'{month:02d}' + '/' + f'{day:02d}' + '/' + f'{year:02d}'\n",
    "    date = datetime.strptime(date, '%m/%d/%y')\n",
    "    \n",
    "    date_list.append(date)\n",
    "\n",
    "\n",
    "#sort all dates \n",
    "\n",
    "date_list = sorted(date_list)\n",
    "\n",
    "#converts date.time to mm/dd/yy\n",
    "\n",
    "date_final = []\n",
    "\n",
    "for i in date_list:\n",
    "    \n",
    "    month = f'{i.month:02d}'\n",
    "    \n",
    "    day = f'{i.day:02d}'\n",
    "    \n",
    "    year = str(i.year)[-2:]\n",
    "    year = f'{year}'\n",
    "    \n",
    "    date = month + \"/\" + day + \"/\" + year\n",
    "    \n",
    "    date_final.append(date)\n",
    "\n",
    "date_final\n"
   ]
  },
  {
   "cell_type": "code",
   "execution_count": null,
   "metadata": {},
   "outputs": [],
   "source": [
    "#find all dates of type day, name of month, year\n",
    "\n",
    "date_list = []\n",
    "\n",
    "for i in dates:\n",
    "\n",
    "    m = re.search('\\d+ (.+) \\d+', i)\n",
    "    found1 = m.group(1)\n",
    "    month = found1.lower()\n",
    "    month = month.title()\n",
    "    \n",
    "    month = int(short_month[month[:3]])\n",
    "\n",
    "    m = re.search('(\\d+) .+ \\d+', i, re.IGNORECASE)\n",
    "    found2 = m.group(1)\n",
    "\n",
    "    day = int(found2)\n",
    "\n",
    "    m = re.search('\\d+ .+ (\\d+)', i, re.IGNORECASE)\n",
    "    found3 = m.group(1)\n",
    "\n",
    "    year = int(found3[-2:])\n",
    "        \n",
    "    date = f'{month:02d}' + '/' + f'{day:02d}' + '/' + f'{year:02d}'\n",
    "    date = datetime.strptime(date, '%m/%d/%y')\n",
    "    \n",
    "    date_list.append(date)\n",
    "    \n",
    "    "
   ]
  },
  {
   "cell_type": "code",
   "execution_count": 77,
   "metadata": {},
   "outputs": [
    {
     "data": {
      "text/plain": [
       "[datetime.datetime(2007, 1, 1, 0, 0),\n",
       " datetime.datetime(2015, 3, 10, 0, 0),\n",
       " datetime.datetime(2017, 12, 2, 0, 0),\n",
       " datetime.datetime(2018, 6, 11, 0, 0),\n",
       " datetime.datetime(2018, 6, 23, 0, 0),\n",
       " datetime.datetime(2019, 1, 1, 0, 0)]"
      ]
     },
     "execution_count": 77,
     "metadata": {},
     "output_type": "execute_result"
    }
   ],
   "source": [
    "sorted(date_list)"
   ]
  },
  {
   "cell_type": "code",
   "execution_count": 91,
   "metadata": {},
   "outputs": [
    {
     "data": {
      "text/plain": [
       "'07'"
      ]
     },
     "execution_count": 91,
     "metadata": {},
     "output_type": "execute_result"
    }
   ],
   "source": [
    "str(date_list[0].year)[-2:]"
   ]
  },
  {
   "cell_type": "code",
   "execution_count": 23,
   "metadata": {
    "scrolled": true
   },
   "outputs": [
    {
     "name": "stdout",
     "output_type": "stream",
     "text": [
      "2018\n",
      "2017\n",
      "2018\n",
      "2019\n",
      "2016\n",
      "2007\n"
     ]
    }
   ],
   "source": [
    "for i in dates:\n",
    "\n",
    "    m = re.search('\\d+ \\w+ (\\d+)', i, re.IGNORECASE)\n",
    "    found = m.group(1)\n",
    "\n",
    "    print(found)"
   ]
  },
  {
   "cell_type": "code",
   "execution_count": 70,
   "metadata": {
    "scrolled": true
   },
   "outputs": [
    {
     "data": {
      "text/plain": [
       "1"
      ]
     },
     "execution_count": 70,
     "metadata": {},
     "output_type": "execute_result"
    }
   ],
   "source": [
    "short_month[found]"
   ]
  },
  {
   "cell_type": "code",
   "execution_count": 39,
   "metadata": {
    "collapsed": true
   },
   "outputs": [],
   "source": [
    "import calendar\n",
    "\n",
    "short_month = {v: k for k,v in enumerate(calendar.month_abbr)}\n"
   ]
  },
  {
   "cell_type": "code",
   "execution_count": 45,
   "metadata": {},
   "outputs": [
    {
     "data": {
      "text/plain": [
       "6"
      ]
     },
     "execution_count": 45,
     "metadata": {},
     "output_type": "execute_result"
    }
   ],
   "source": [
    "short_month[\"Jun\"]"
   ]
  },
  {
   "cell_type": "code",
   "execution_count": 14,
   "metadata": {
    "collapsed": true
   },
   "outputs": [],
   "source": [
    "def date_sorter():\n",
    "    \n",
    "    # Your code here\n",
    "    \n",
    "    return # Your answer here"
   ]
  }
 ],
 "metadata": {
  "coursera": {
   "course_slug": "python-text-mining",
   "graded_item_id": "LvcWI",
   "launcher_item_id": "krne9",
   "part_id": "Mkp1I"
  },
  "kernelspec": {
   "display_name": "Python 3",
   "language": "python",
   "name": "python3"
  },
  "language_info": {
   "codemirror_mode": {
    "name": "ipython",
    "version": 3
   },
   "file_extension": ".py",
   "mimetype": "text/x-python",
   "name": "python",
   "nbconvert_exporter": "python",
   "pygments_lexer": "ipython3",
   "version": "3.7.0"
  }
 },
 "nbformat": 4,
 "nbformat_minor": 2
}
