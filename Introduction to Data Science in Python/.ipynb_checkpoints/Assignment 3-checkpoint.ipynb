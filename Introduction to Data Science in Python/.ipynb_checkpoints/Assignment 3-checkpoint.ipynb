{
 "cells": [
  {
   "cell_type": "markdown",
   "metadata": {},
   "source": [
    "---\n",
    "\n",
    "_You are currently looking at **version 1.5** of this notebook. To download notebooks and datafiles, as well as get help on Jupyter notebooks in the Coursera platform, visit the [Jupyter Notebook FAQ](https://www.coursera.org/learn/python-data-analysis/resources/0dhYG) course resource._\n",
    "\n",
    "---"
   ]
  },
  {
   "cell_type": "markdown",
   "metadata": {},
   "source": [
    "# Assignment 3 - More Pandas\n",
    "This assignment requires more individual learning then the last one did - you are encouraged to check out the [pandas documentation](http://pandas.pydata.org/pandas-docs/stable/) to find functions or methods you might not have used yet, or ask questions on [Stack Overflow](http://stackoverflow.com/) and tag them as pandas and python related. And of course, the discussion forums are open for interaction with your peers and the course staff."
   ]
  },
  {
   "cell_type": "markdown",
   "metadata": {},
   "source": [
    "### Question 1 (20%)\n",
    "Load the energy data from the file `Energy Indicators.xls`, which is a list of indicators of [energy supply and renewable electricity production](Energy%20Indicators.xls) from the [United Nations](http://unstats.un.org/unsd/environment/excel_file_tables/2013/Energy%20Indicators.xls) for the year 2013, and should be put into a DataFrame with the variable name of **energy**.\n",
    "\n",
    "Keep in mind that this is an Excel file, and not a comma separated values file. Also, make sure to exclude the footer and header information from the datafile. The first two columns are unneccessary, so you should get rid of them, and you should change the column labels so that the columns are:\n",
    "\n",
    "`['Country', 'Energy Supply', 'Energy Supply per Capita', '% Renewable']`\n",
    "\n",
    "Convert `Energy Supply` to gigajoules (there are 1,000,000 gigajoules in a petajoule). For all countries which have missing data (e.g. data with \"...\") make sure this is reflected as `np.NaN` values.\n",
    "\n",
    "Rename the following list of countries (for use in later questions):\n",
    "\n",
    "```\"Republic of Korea\": \"South Korea\",\n",
    "\"United States of America\": \"United States\",\n",
    "\"United Kingdom of Great Britain and Northern Ireland\": \"United Kingdom\",\n",
    "\"China, Hong Kong Special Administrative Region\": \"Hong Kong\"```\n",
    "\n",
    "There are also several countries with numbers and/or parenthesis in their name. Be sure to remove these, \n",
    "\n",
    "e.g. \n",
    "\n",
    "`'Bolivia (Plurinational State of)'` should be `'Bolivia'`, \n",
    "\n",
    "`'Switzerland17'` should be `'Switzerland'`.\n",
    "\n",
    "<br>\n",
    "\n",
    "Next, load the GDP data from the file `world_bank.csv`, which is a csv containing countries' GDP from 1960 to 2015 from [World Bank](http://data.worldbank.org/indicator/NY.GDP.MKTP.CD). Call this DataFrame **GDP**. \n",
    "\n",
    "Make sure to skip the header, and rename the following list of countries:\n",
    "\n",
    "```\"Korea, Rep.\": \"South Korea\", \n",
    "\"Iran, Islamic Rep.\": \"Iran\",\n",
    "\"Hong Kong SAR, China\": \"Hong Kong\"```\n",
    "\n",
    "<br>\n",
    "\n",
    "Finally, load the [Sciamgo Journal and Country Rank data for Energy Engineering and Power Technology](http://www.scimagojr.com/countryrank.php?category=2102) from the file `scimagojr-3.xlsx`, which ranks countries based on their journal contributions in the aforementioned area. Call this DataFrame **ScimEn**.\n",
    "\n",
    "Join the three datasets: GDP, Energy, and ScimEn into a new dataset (using the intersection of country names). Use only the last 10 years (2006-2015) of GDP data and only the top 15 countries by Scimagojr 'Rank' (Rank 1 through 15). \n",
    "\n",
    "The index of this DataFrame should be the name of the country, and the columns should be ['Rank', 'Documents', 'Citable documents', 'Citations', 'Self-citations',\n",
    "       'Citations per document', 'H index', 'Energy Supply',\n",
    "       'Energy Supply per Capita', '% Renewable', '2006', '2007', '2008',\n",
    "       '2009', '2010', '2011', '2012', '2013', '2014', '2015'].\n",
    "\n",
    "*This function should return a DataFrame with 20 columns and 15 entries.*"
   ]
  },
  {
   "cell_type": "code",
   "execution_count": 1,
   "metadata": {},
   "outputs": [],
   "source": [
    "def answer_one():\n",
    "    import pandas as pd\n",
    "    import numpy as np\n",
    "    \n",
    "    #energy import and cleaning\n",
    "    energy = pd.read_excel('Energy Indicators.xls')\n",
    "    \n",
    "    del energy[\"Unnamed: 0\"]\n",
    "    del energy[\"Unnamed: 1\"]\n",
    "    \n",
    "    energy.drop(energy.index[range(0, 16)], inplace=True)\n",
    "    energy.drop(energy.index[range(227, 265)], inplace=True)\n",
    "    \n",
    "    energy.columns = ['Country', 'Energy Supply', 'Energy Supply per Capita', '% Renewable']\n",
    "    \n",
    "    energy.replace('...', np.nan, inplace=True)\n",
    "    energy[\"Energy Supply\"]=energy[\"Energy Supply\"]*1000000\n",
    "    \n",
    "    for i in range(0,len(energy[\"Country\"])):\n",
    "        energy[\"Country\"].iloc[i] = ''.join(i for i in energy[\"Country\"].iloc[i] if not i.isdigit())\n",
    "        \n",
    "    energy.replace(\"Republic of Korea\", \"South Korea\", inplace=True)\n",
    "    energy.replace(\"United States of America\", \"United States\", inplace=True)\n",
    "    energy.replace(\"United Kingdom of Great Britain and Northern Ireland\", \"United Kingdom\", inplace=True)\n",
    "    energy.replace(\"China, Hong Kong Special Administrative Region\", \"Hong Kong\", inplace=True)\n",
    "    energy.replace(\"Bolivia (Plurinational State of)\", \"Bolivia\", inplace=True)\n",
    "    energy.replace(\"Falkland Islands (Malvinas)\",  \"Falkland Islands\", inplace=True)\n",
    "    energy.replace(\"China, Macao Special Administrative Region\", \"Macao\", inplace=True)\n",
    "    energy.replace(\"Iran (Islamic Republic of)\", \"Iran\", inplace=True)\n",
    "    energy.replace(\"Micronesia (Federated States of)\", \"Micronesia\", inplace=True)\n",
    "    energy.replace(\"Sint Maarten (Dutch part)\", \"Sint Maarten\", inplace=True)\n",
    "    energy.replace(\"Venezuela (Bolivarian Republic of)\", \"Venezuela\", inplace=True)\n",
    "    \n",
    "    #GDP import and cleaning\n",
    "    GDP = pd.read_csv('world_bank.csv', header = 4)\n",
    "    \n",
    "    GDP.replace(\"Korea, Rep.\", \"South Korea\", inplace=True)\n",
    "    GDP.replace(\"Iran, Islamic Rep.\", \"Iran\", inplace=True)\n",
    "    GDP.replace(\"Hong Kong SAR, China\", \"Hong Kong\", inplace=True)\n",
    "    \n",
    "    GDP.rename(columns={'Country Name':'Country'}, inplace=True)\n",
    "    \n",
    "    #ScimEn import\n",
    "    ScimEn = pd.read_excel(\"scimagojr-3.xlsx\")\n",
    "    \n",
    "    #merge all three dataframes and clean\n",
    "    df = ScimEn.merge(energy,on='Country').merge(GDP,on='Country')\n",
    "    \n",
    "    df.set_index(\"Country\", inplace=True)\n",
    "    \n",
    "    df = df[['Rank', 'Documents', 'Citable documents', 'Citations', 'Self-citations', 'Citations per document', 'H index', 'Energy Supply','Energy Supply per Capita', '% Renewable', '2006', '2007', '2008', '2009', '2010', '2011', '2012', '2013', '2014', '2015']]\n",
    "    df = df[0:15]\n",
    "    \n",
    "    return df"
   ]
  },
  {
   "cell_type": "markdown",
   "metadata": {},
   "source": [
    "### Question 2 (6.6%)\n",
    "The previous question joined three datasets then reduced this to just the top 15 entries. When you joined the datasets, but before you reduced this to the top 15 items, how many entries did you lose?\n",
    "\n",
    "*This function should return a single number.*"
   ]
  },
  {
   "cell_type": "code",
   "execution_count": 175,
   "metadata": {},
   "outputs": [
    {
     "data": {
      "text/html": [
       "<svg width=\"800\" height=\"300\">\n",
       "  <circle cx=\"150\" cy=\"180\" r=\"80\" fill-opacity=\"0.2\" stroke=\"black\" stroke-width=\"2\" fill=\"blue\" />\n",
       "  <circle cx=\"200\" cy=\"100\" r=\"80\" fill-opacity=\"0.2\" stroke=\"black\" stroke-width=\"2\" fill=\"red\" />\n",
       "  <circle cx=\"100\" cy=\"100\" r=\"80\" fill-opacity=\"0.2\" stroke=\"black\" stroke-width=\"2\" fill=\"green\" />\n",
       "  <line x1=\"150\" y1=\"125\" x2=\"300\" y2=\"150\" stroke=\"black\" stroke-width=\"2\" fill=\"black\" stroke-dasharray=\"5,3\"/>\n",
       "  <text  x=\"300\" y=\"165\" font-family=\"Verdana\" font-size=\"35\">Everything but this!</text>\n",
       "</svg>"
      ],
      "text/plain": [
       "<IPython.core.display.HTML object>"
      ]
     },
     "metadata": {},
     "output_type": "display_data"
    }
   ],
   "source": [
    "%%HTML\n",
    "<svg width=\"800\" height=\"300\">\n",
    "  <circle cx=\"150\" cy=\"180\" r=\"80\" fill-opacity=\"0.2\" stroke=\"black\" stroke-width=\"2\" fill=\"blue\" />\n",
    "  <circle cx=\"200\" cy=\"100\" r=\"80\" fill-opacity=\"0.2\" stroke=\"black\" stroke-width=\"2\" fill=\"red\" />\n",
    "  <circle cx=\"100\" cy=\"100\" r=\"80\" fill-opacity=\"0.2\" stroke=\"black\" stroke-width=\"2\" fill=\"green\" />\n",
    "  <line x1=\"150\" y1=\"125\" x2=\"300\" y2=\"150\" stroke=\"black\" stroke-width=\"2\" fill=\"black\" stroke-dasharray=\"5,3\"/>\n",
    "  <text  x=\"300\" y=\"165\" font-family=\"Verdana\" font-size=\"35\">Everything but this!</text>\n",
    "</svg>"
   ]
  },
  {
   "cell_type": "code",
   "execution_count": 22,
   "metadata": {},
   "outputs": [],
   "source": [
    "def answer_two():\n",
    "    \n",
    "    import pandas as pd\n",
    "    import numpy as np\n",
    "    \n",
    "    #energy import and cleaning\n",
    "    energy = pd.read_excel('Energy Indicators.xls')\n",
    "    \n",
    "    del energy[\"Unnamed: 0\"]\n",
    "    del energy[\"Unnamed: 1\"]\n",
    "    \n",
    "    energy.drop(energy.index[range(0, 16)], inplace=True)\n",
    "    energy.drop(energy.index[range(227, 265)], inplace=True)\n",
    "    \n",
    "    energy.columns = ['Country', 'Energy Supply', 'Energy Supply per Capita', '% Renewable']\n",
    "    \n",
    "    energy.replace('...', np.nan, inplace=True)\n",
    "    energy[\"Energy Supply\"]=energy[\"Energy Supply\"]*1000000\n",
    "    \n",
    "    for i in range(0,len(energy[\"Country\"])):\n",
    "        energy[\"Country\"].iloc[i] = ''.join(i for i in energy[\"Country\"].iloc[i] if not i.isdigit())\n",
    "        \n",
    "    energy.replace(\"Republic of Korea\", \"South Korea\", inplace=True)\n",
    "    energy.replace(\"United States of America\", \"United States\", inplace=True)\n",
    "    energy.replace(\"United Kingdom of Great Britain and Northern Ireland\", \"United Kingdom\", inplace=True)\n",
    "    energy.replace(\"China, Hong Kong Special Administrative Region\", \"Hong Kong\", inplace=True)\n",
    "    energy.replace(\"Bolivia (Plurinational State of)\", \"Bolivia\", inplace=True)\n",
    "    energy.replace(\"Falkland Islands (Malvinas)\",  \"Falkland Islands\", inplace=True)\n",
    "    energy.replace(\"China, Macao Special Administrative Region\", \"Macao\", inplace=True)\n",
    "    energy.replace(\"Iran (Islamic Republic of)\", \"Iran\", inplace=True)\n",
    "    energy.replace(\"Micronesia (Federated States of)\", \"Micronesia\", inplace=True)\n",
    "    energy.replace(\"Sint Maarten (Dutch part)\", \"Sint Maarten\", inplace=True)\n",
    "    energy.replace(\"Venezuela (Bolivarian Republic of)\", \"Venezuela\", inplace=True)\n",
    "    \n",
    "    #GDP import and cleaning\n",
    "    GDP = pd.read_csv('world_bank.csv', header = 4)\n",
    "    \n",
    "    GDP.replace(\"Korea, Rep.\", \"South Korea\", inplace=True)\n",
    "    GDP.replace(\"Iran, Islamic Rep.\", \"Iran\", inplace=True)\n",
    "    GDP.replace(\"Hong Kong SAR, China\", \"Hong Kong\", inplace=True)\n",
    "    \n",
    "    GDP.rename(columns={'Country Name':'Country'}, inplace=True)\n",
    "    \n",
    "    #ScimEn import\n",
    "    ScimEn = pd.read_excel(\"scimagojr-3.xlsx\")\n",
    "    \n",
    "    #merge all three dataframes and clean\n",
    "    df = ScimEn.merge(energy,on='Country').merge(GDP,on='Country')\n",
    "    \n",
    "    df.set_index(\"Country\", inplace=True)\n",
    "    \n",
    "    df = df[['Rank', 'Documents', 'Citable documents', 'Citations', 'Self-citations', 'Citations per document', 'H index', 'Energy Supply','Energy Supply per Capita', '% Renewable', '2006', '2007', '2008', '2009', '2010', '2011', '2012', '2013', '2014', '2015']]\n",
    "    df1 = df[0:15]\n",
    "    \n",
    "    return len(df) - len(df1)"
   ]
  },
  {
   "cell_type": "markdown",
   "metadata": {},
   "source": [
    "<br>\n",
    "\n",
    "Answer the following questions in the context of only the top 15 countries by Scimagojr Rank (aka the DataFrame returned by `answer_one()`)"
   ]
  },
  {
   "cell_type": "markdown",
   "metadata": {},
   "source": [
    "### Question 3 (6.6%)\n",
    "What is the average GDP over the last 10 years for each country? (exclude missing values from this calculation.)\n",
    "\n",
    "*This function should return a Series named `avgGDP` with 15 countries and their average GDP sorted in descending order.*"
   ]
  },
  {
   "cell_type": "code",
   "execution_count": 23,
   "metadata": {
    "scrolled": true
   },
   "outputs": [],
   "source": [
    "def answer_three():\n",
    "    Top15 = answer_one()\n",
    "    df2 = Top15[[\"2006\",\"2007\",\"2008\",\"2009\",\"2010\",\"2011\",\"2012\",\"2013\",\"2014\",\"2015\"]]\n",
    "    df2['mean'] = df2.mean(axis=1)\n",
    "    avgGDP = df2[\"mean\"]\n",
    "    avgGDP = avgGDP.sort_values(ascending=False)\n",
    "    return avgGDP"
   ]
  },
  {
   "cell_type": "markdown",
   "metadata": {},
   "source": [
    "### Question 4 (6.6%)\n",
    "By how much had the GDP changed over the 10 year span for the country with the 6th largest average GDP?\n",
    "\n",
    "*This function should return a single number.*"
   ]
  },
  {
   "cell_type": "code",
   "execution_count": 24,
   "metadata": {
    "scrolled": true
   },
   "outputs": [],
   "source": [
    "def answer_four():\n",
    "    Top15 = answer_one()\n",
    "    df2 = Top15[[\"2006\",\"2007\",\"2008\",\"2009\",\"2010\",\"2011\",\"2012\",\"2013\",\"2014\",\"2015\"]]\n",
    "    df2['mean'] = df2.mean(axis=1)\n",
    "    avgGDP = df2[\"mean\"]\n",
    "    avgGDP = avgGDP.sort_values(ascending=False)\n",
    "    uk = Top15.loc[avgGDP.nlargest(6).index[-1]]\n",
    "    return uk[\"2015\"] - uk[\"2006\"]"
   ]
  },
  {
   "cell_type": "markdown",
   "metadata": {},
   "source": [
    "### Question 5 (6.6%)\n",
    "What is the mean `Energy Supply per Capita`?\n",
    "\n",
    "*This function should return a single number.*"
   ]
  },
  {
   "cell_type": "code",
   "execution_count": 25,
   "metadata": {},
   "outputs": [],
   "source": [
    "def answer_five():\n",
    "    Top15 = answer_one()\n",
    "    return Top15[\"Energy Supply per Capita\"].mean()"
   ]
  },
  {
   "cell_type": "markdown",
   "metadata": {},
   "source": [
    "### Question 6 (6.6%)\n",
    "What country has the maximum % Renewable and what is the percentage?\n",
    "\n",
    "*This function should return a tuple with the name of the country and the percentage.*"
   ]
  },
  {
   "cell_type": "code",
   "execution_count": 26,
   "metadata": {},
   "outputs": [],
   "source": [
    "def answer_six():\n",
    "    Top15 = answer_one()\n",
    "    t = (Top15[\"% Renewable\"].nlargest(1).index[0],Top15[\"% Renewable\"].nlargest(1)[-1])\n",
    "    return t"
   ]
  },
  {
   "cell_type": "markdown",
   "metadata": {},
   "source": [
    "### Question 7 (6.6%)\n",
    "Create a new column that is the ratio of Self-Citations to Total Citations. \n",
    "What is the maximum value for this new column, and what country has the highest ratio?\n",
    "\n",
    "*This function should return a tuple with the name of the country and the ratio.*"
   ]
  },
  {
   "cell_type": "code",
   "execution_count": 27,
   "metadata": {},
   "outputs": [],
   "source": [
    "def answer_seven():\n",
    "    Top15 = answer_one()\n",
    "    Top15[\"Citation ratio\"] = Top15[\"Self-citations\"] / Top15[\"Citations\"]\n",
    "    t = (Top15[\"Citation ratio\"].idxmax(), Top15[\"Citation ratio\"].max())\n",
    "    return t"
   ]
  },
  {
   "cell_type": "markdown",
   "metadata": {},
   "source": [
    "### Question 8 (6.6%)\n",
    "\n",
    "Create a column that estimates the population using Energy Supply and Energy Supply per capita. \n",
    "What is the third most populous country according to this estimate?\n",
    "\n",
    "*This function should return a single string value.*"
   ]
  },
  {
   "cell_type": "code",
   "execution_count": 28,
   "metadata": {},
   "outputs": [],
   "source": [
    "def answer_eight():\n",
    "    Top15 = answer_one()\n",
    "    Top15[\"estm Population\"] = Top15[\"Energy Supply\"] / Top15[\"Energy Supply per Capita\"]\n",
    "    a = Top15[\"estm Population\"].nlargest(3).index[2]\n",
    "    return a"
   ]
  },
  {
   "cell_type": "markdown",
   "metadata": {},
   "source": [
    "### Question 9 (6.6%)\n",
    "Create a column that estimates the number of citable documents per person. \n",
    "What is the correlation between the number of citable documents per capita and the energy supply per capita? Use the `.corr()` method, (Pearson's correlation).\n",
    "\n",
    "*This function should return a single number.*\n",
    "\n",
    "*(Optional: Use the built-in function `plot9()` to visualize the relationship between Energy Supply per Capita vs. Citable docs per Capita)*"
   ]
  },
  {
   "cell_type": "code",
   "execution_count": 4,
   "metadata": {},
   "outputs": [],
   "source": [
    "def answer_nine():\n",
    "    Top15 = answer_one()\n",
    "    Top15[\"Citable documents per capita\"] = Top15[\"Citable documents\"] / (Top15[\"Energy Supply\"] / Top15[\"Energy Supply per Capita\"])\n",
    "    corr = Top15[\"Citable documents per capita\"].corr(Top15['Energy Supply per Capita'])\n",
    "    return corr"
   ]
  },
  {
   "cell_type": "code",
   "execution_count": 5,
   "metadata": {},
   "outputs": [
    {
     "name": "stderr",
     "output_type": "stream",
     "text": [
      "c:\\users\\rbosshard\\appdata\\local\\programs\\python\\python36-32\\lib\\site-packages\\pandas\\core\\indexing.py:194: SettingWithCopyWarning: \n",
      "A value is trying to be set on a copy of a slice from a DataFrame\n",
      "\n",
      "See the caveats in the documentation: http://pandas.pydata.org/pandas-docs/stable/indexing.html#indexing-view-versus-copy\n",
      "  self._setitem_with_indexer(indexer, value)\n"
     ]
    },
    {
     "data": {
      "text/plain": [
       "0.7940010435442942"
      ]
     },
     "execution_count": 5,
     "metadata": {},
     "output_type": "execute_result"
    }
   ],
   "source": [
    "answer_nine()"
   ]
  },
  {
   "cell_type": "code",
   "execution_count": 30,
   "metadata": {},
   "outputs": [],
   "source": [
    "def plot9():\n",
    "    import matplotlib as plt\n",
    "    %matplotlib inline\n",
    "    \n",
    "    Top15 = answer_one()\n",
    "    Top15['PopEst'] = Top15['Energy Supply'] / Top15['Energy Supply per Capita']\n",
    "    Top15['Citable docs per Capita'] = Top15['Citable documents'] / Top15['PopEst']\n",
    "    Top15.plot(x='Citable docs per Capita', y='Energy Supply per Capita', kind='scatter', xlim=[0, 0.0006])"
   ]
  },
  {
   "cell_type": "markdown",
   "metadata": {},
   "source": [
    "### Question 10 (6.6%)\n",
    "Create a new column with a 1 if the country's % Renewable value is at or above the median for all countries in the top 15, and a 0 if the country's % Renewable value is below the median.\n",
    "\n",
    "*This function should return a series named `HighRenew` whose index is the country name sorted in ascending order of rank.*"
   ]
  },
  {
   "cell_type": "code",
   "execution_count": 31,
   "metadata": {},
   "outputs": [],
   "source": [
    "def answer_ten():\n",
    "    Top15 = answer_one()\n",
    "    \n",
    "    def label_renew (x):\n",
    "        if x[\"% Renewable\"] > Top15[\"% Renewable\"].median() :\n",
    "            return 1\n",
    "        else:\n",
    "            return 0\n",
    "    \n",
    "    Top15[\"HighRenew\"] = Top15.apply (lambda x: label_renew (x),axis=1)    \n",
    "    \n",
    "    HighRenew = Top15[\"HighRenew\"]\n",
    "    HighRenew = HighRenew.sort_values(ascending=True)   \n",
    "    \n",
    "    return HighRenew"
   ]
  },
  {
   "cell_type": "markdown",
   "metadata": {},
   "source": [
    "### Question 11 (6.6%)\n",
    "Use the following dictionary to group the Countries by Continent, then create a dateframe that displays the sample size (the number of countries in each continent bin), and the sum, mean, and std deviation for the estimated population of each country.\n",
    "\n",
    "```python\n",
    "ContinentDict  = {'China':'Asia', \n",
    "                  'United States':'North America', \n",
    "                  'Japan':'Asia', \n",
    "                  'United Kingdom':'Europe', \n",
    "                  'Russian Federation':'Europe', \n",
    "                  'Canada':'North America', \n",
    "                  'Germany':'Europe', \n",
    "                  'India':'Asia',\n",
    "                  'France':'Europe', \n",
    "                  'South Korea':'Asia', \n",
    "                  'Italy':'Europe', \n",
    "                  'Spain':'Europe', \n",
    "                  'Iran':'Asia',\n",
    "                  'Australia':'Australia', \n",
    "                  'Brazil':'South America'}\n",
    "```\n",
    "\n",
    "*This function should return a DataFrame with index named Continent `['Asia', 'Australia', 'Europe', 'North America', 'South America']` and columns `['size', 'sum', 'mean', 'std']`*"
   ]
  },
  {
   "cell_type": "code",
   "execution_count": 32,
   "metadata": {},
   "outputs": [],
   "source": [
    "def answer_eleven():\n",
    "    Top15 = answer_one()\n",
    "    ContinentDict  = {'China':'Asia', \n",
    "                  'United States':'North America', \n",
    "                  'Japan':'Asia', \n",
    "                  'United Kingdom':'Europe', \n",
    "                  'Russian Federation':'Europe', \n",
    "                  'Canada':'North America', \n",
    "                  'Germany':'Europe', \n",
    "                  'India':'Asia',\n",
    "                  'France':'Europe', \n",
    "                  'South Korea':'Asia', \n",
    "                  'Italy':'Europe', \n",
    "                  'Spain':'Europe', \n",
    "                  'Iran':'Asia',\n",
    "                  'Australia':'Australia', \n",
    "                  'Brazil':'South America'}\n",
    "    df5 = pd.DataFrame(ContinentDict, index = ['China', 'United States', 'Japan', 'United Kingdom', 'Russian Federation', 'Canada', 'Germany', 'India', 'France', 'South Korea', 'Italy', 'Spain', 'Iran', 'Australia', 'Brazil'])\n",
    "    df5[\"Continent\"] =  ['Asia', \n",
    "                  'North America', \n",
    "                  'Asia', \n",
    "                  'Europe', \n",
    "                  'Europe', \n",
    "                  'North America', \n",
    "                  'Europe', \n",
    "                  'Asia',\n",
    "                  'Europe', \n",
    "                  'Asia', \n",
    "                  'Europe', \n",
    "                  'Europe', \n",
    "                  'Asia',\n",
    "                  'Australia', \n",
    "                  'South America']\n",
    "    df5 = df5[[\"Continent\"]]\n",
    "    df5.index.name = \"Country\"\n",
    "    df5 = df5.reset_index()\n",
    "    df4 = Top15.reset_index()\n",
    "    df4[\"estm Population\"] = df4[\"Energy Supply\"] / df4[\"Energy Supply per Capita\"]\n",
    "    df6 = df4.merge(df5, on=\"Country\")\n",
    "    df6 = df6.set_index(\"Continent\")\n",
    "    df6 = df6[[\"estm Population\"]]\n",
    "    df7 = df6.groupby(\"Continent\").count()\n",
    "    df7[\"size\"] = df6.groupby(\"Continent\").count()\n",
    "    df7[\"sum\"] = df6.groupby(\"Continent\").sum()\n",
    "    df7[\"mean\"] = df6.groupby(\"Continent\").mean()\n",
    "    df7[\"std\"] = df6.groupby(\"Continent\").std()\n",
    "    df7 = df7[['size', 'sum', 'mean', 'std']]\n",
    "    return df7"
   ]
  },
  {
   "cell_type": "markdown",
   "metadata": {},
   "source": [
    "### Question 12 (6.6%)\n",
    "Cut % Renewable into 5 bins. Group Top15 by the Continent, as well as these new % Renewable bins. How many countries are in each of these groups?\n",
    "\n",
    "*This function should return a __Series__ with a MultiIndex of `Continent`, then the bins for `% Renewable`. Do not include groups with no countries.*"
   ]
  },
  {
   "cell_type": "code",
   "execution_count": 146,
   "metadata": {
    "scrolled": true
   },
   "outputs": [],
   "source": [
    "def answer_twelve():\n",
    "    Top15 = answer_one()\n",
    "    ContinentDict  = {'China':'Asia', \n",
    "              'United States':'North America', \n",
    "              'Japan':'Asia', \n",
    "              'United Kingdom':'Europe', \n",
    "              'Russian Federation':'Europe', \n",
    "              'Canada':'North America', \n",
    "              'Germany':'Europe', \n",
    "              'India':'Asia',\n",
    "              'France':'Europe', \n",
    "              'South Korea':'Asia', \n",
    "              'Italy':'Europe', \n",
    "              'Spain':'Europe', \n",
    "              'Iran':'Asia',\n",
    "              'Australia':'Australia', \n",
    "              'Brazil':'South America'}\n",
    "    df5 = pd.DataFrame(ContinentDict, index = ['China', 'United States', 'Japan', 'United Kingdom', 'Russian Federation', 'Canada', 'Germany', 'India', 'France', 'South Korea', 'Italy', 'Spain', 'Iran', 'Australia', 'Brazil'])\n",
    "    df5[\"Continent\"] =  ['Asia', \n",
    "                  'North America', \n",
    "                  'Asia', \n",
    "                  'Europe', \n",
    "                  'Europe', \n",
    "                  'North America', \n",
    "                  'Europe', \n",
    "                  'Asia',\n",
    "                  'Europe', \n",
    "                  'Asia', \n",
    "                  'Europe', \n",
    "                  'Europe', \n",
    "                  'Asia',\n",
    "                  'Australia', \n",
    "                  'South America']\n",
    "    df5 = df5[[\"Continent\"]]\n",
    "    df5.index.name = \"Country\"\n",
    "    df5 = df5.reset_index()\n",
    "    df4 = Top15.reset_index()\n",
    "    df4[\"estm Population\"] = df4[\"Energy Supply\"] / df4[\"Energy Supply per Capita\"]\n",
    "    df6 = df4.merge(df5, on=\"Country\")\n",
    "    df6 = df6.set_index(\"Country\")\n",
    "    df7 = pd.DataFrame(pd.cut(Top15[\"% Renewable\"], 5))\n",
    "    df6[\"% Renewable Bins\"] = df7\n",
    "    df10 = df6.groupby(['Continent', '% Renewable Bins']).size()\n",
    "    return df10"
   ]
  },
  {
   "cell_type": "markdown",
   "metadata": {},
   "source": [
    "### Question 13 (6.6%)\n",
    "Convert the Population Estimate series to a string with thousands separator (using commas). Do not round the results.\n",
    "\n",
    "e.g. 317615384.61538464 -> 317,615,384.61538464\n",
    "\n",
    "*This function should return a Series `PopEst` whose index is the country name and whose values are the population estimate string.*"
   ]
  },
  {
   "cell_type": "code",
   "execution_count": 157,
   "metadata": {
    "scrolled": true
   },
   "outputs": [],
   "source": [
    "def answer_thirteen():\n",
    "    Top15 = answer_one()\n",
    "    Top15[\"PopEst\"] = Top15[\"Energy Supply\"] / Top15[\"Energy Supply per Capita\"]\n",
    "    Top15[\"PopEst\"] = Top15[\"PopEst\"].map('{:,}'.format)\n",
    "    df1 = Top15[\"PopEst\"]\n",
    "    return df1"
   ]
  },
  {
   "cell_type": "markdown",
   "metadata": {},
   "source": [
    "### Optional\n",
    "\n",
    "Use the built in function `plot_optional()` to see an example visualization."
   ]
  },
  {
   "cell_type": "code",
   "execution_count": 173,
   "metadata": {
    "scrolled": true
   },
   "outputs": [],
   "source": [
    "def plot_optional():\n",
    "    import matplotlib as plt\n",
    "    %matplotlib inline\n",
    "    Top15 = answer_one()\n",
    "    ax = Top15.plot(x='Rank', y='% Renewable', kind='scatter', \n",
    "                    c=['#e41a1c','#377eb8','#e41a1c','#4daf4a','#4daf4a','#377eb8','#4daf4a','#e41a1c',\n",
    "                       '#4daf4a','#e41a1c','#4daf4a','#4daf4a','#e41a1c','#dede00','#ff7f00'], \n",
    "                    xticks=range(1,16), s=6*Top15['2014']/10**10, alpha=.75, figsize=[16,6]);\n",
    "\n",
    "    for i, txt in enumerate(Top15.index):\n",
    "        ax.annotate(txt, [Top15['Rank'][i], Top15['% Renewable'][i]], ha='center')\n",
    "\n",
    "    print(\"This is an example of a visualization that can be created to help understand the data. \\\n",
    "This is a bubble chart showing % Renewable vs. Rank. The size of the bubble corresponds to the countries' \\\n",
    "2014 GDP, and the color corresponds to the continent.\")"
   ]
  }
 ],
 "metadata": {
  "anaconda-cloud": {},
  "coursera": {
   "course_slug": "python-data-analysis",
   "graded_item_id": "zAr06",
   "launcher_item_id": "KSSjT",
   "part_id": "SL3fU"
  },
  "kernelspec": {
   "display_name": "Python 3",
   "language": "python",
   "name": "python3"
  },
  "language_info": {
   "codemirror_mode": {
    "name": "ipython",
    "version": 3
   },
   "file_extension": ".py",
   "mimetype": "text/x-python",
   "name": "python",
   "nbconvert_exporter": "python",
   "pygments_lexer": "ipython3",
   "version": "3.6.3"
  }
 },
 "nbformat": 4,
 "nbformat_minor": 1
}
